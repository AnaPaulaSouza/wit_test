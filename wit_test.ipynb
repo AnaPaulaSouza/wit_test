{
  "nbformat": 4,
  "nbformat_minor": 0,
  "metadata": {
    "colab": {
      "name": "wit_test.ipynb",
      "provenance": [],
      "collapsed_sections": [],
      "authorship_tag": "ABX9TyM8Gx6RfQGB3LprpmBxMHmK",
      "include_colab_link": true
    },
    "kernelspec": {
      "name": "python3",
      "display_name": "Python 3"
    }
  },
  "cells": [
    {
      "cell_type": "markdown",
      "metadata": {
        "id": "view-in-github",
        "colab_type": "text"
      },
      "source": [
        "<a href=\"https://colab.research.google.com/github/AnaPaulaSouza/wit_test/blob/master/wit_test.ipynb\" target=\"_parent\"><img src=\"https://colab.research.google.com/assets/colab-badge.svg\" alt=\"Open In Colab\"/></a>"
      ]
    },
    {
      "cell_type": "code",
      "metadata": {
        "id": "_hgYZk2OzmTB",
        "colab_type": "code",
        "colab": {}
      },
      "source": [
        "import tensorflow\n",
        "from tensorflow import keras\n",
        "import matplotlib.pyplot as plt\n",
        "import numpy as np\n",
        "from tensorflow.keras.models import load_model"
      ],
      "execution_count": 16,
      "outputs": []
    },
    {
      "cell_type": "markdown",
      "metadata": {
        "id": "oUfcqgYi01b3",
        "colab_type": "text"
      },
      "source": [
        "**Carregando o dataset**"
      ]
    },
    {
      "cell_type": "code",
      "metadata": {
        "id": "q08JBWqvzpcg",
        "colab_type": "code",
        "colab": {}
      },
      "source": [
        "dataset = keras.datasets.fashion_mnist\n",
        "((imagens_treino, identificacaoes_treino), (imagens_teste, identificacaoes_teste)) = dataset.load_data()\n"
      ],
      "execution_count": 17,
      "outputs": []
    },
    {
      "cell_type": "markdown",
      "metadata": {
        "id": "UR_OmxTe0AyJ",
        "colab_type": "text"
      },
      "source": [
        "**Exploração os dados**\n"
      ]
    },
    {
      "cell_type": "code",
      "metadata": {
        "id": "9RfMNYfPzspy",
        "colab_type": "code",
        "colab": {
          "base_uri": "https://localhost:8080/",
          "height": 35
        },
        "outputId": "bc66f8a1-04f3-4da2-d8f6-2a62127ebc73"
      },
      "source": [
        "len(imagens_teste)\n",
        "imagens_treino.shape\n",
        "imagens_teste.shape\n",
        "\n",
        "len(identificacaoes_teste)\n",
        "identificacaoes_treino.min()\n",
        "identificacaoes_treino.max()"
      ],
      "execution_count": 18,
      "outputs": [
        {
          "output_type": "execute_result",
          "data": {
            "text/plain": [
              "9"
            ]
          },
          "metadata": {
            "tags": []
          },
          "execution_count": 18
        }
      ]
    },
    {
      "cell_type": "markdown",
      "metadata": {
        "id": "ZvKhgfnc0VLj",
        "colab_type": "text"
      },
      "source": [
        "**Exibição dos dados**"
      ]
    },
    {
      "cell_type": "code",
      "metadata": {
        "id": "pCtN8Xo4r0Jb",
        "colab_type": "code",
        "colab": {
          "base_uri": "https://localhost:8080/",
          "height": 283
        },
        "outputId": "56f157ca-029d-46e7-e588-c53d020379b3"
      },
      "source": [
        "total_de_classificacoes = 10\n",
        "nomes_de_classificacoes = ['Camiseta', 'Calça', 'Pullover', \n",
        "                           'Vestido', 'Casado', 'Sandália', 'Camisa', \n",
        "                           'Tênis', 'Bolsa', 'Bota'\n",
        "                         ]\n",
        "# plt.imshow(imagens_treino[0])\n",
        "# plt.title(identificacaoes_treino[0])\n",
        "\n",
        "# for imagem in range(10):\n",
        "#   plt.subplot(2, 5, imagem+1)\n",
        "#   plt.imshow(imagens_treino[imagem])\n",
        "#   plt.title(nomes_de_classificacoes[identificacaoes_treino[imagem]])\n",
        "\n",
        "plt.imshow(imagens_treino[0])\n",
        "plt.colorbar()"
      ],
      "execution_count": 19,
      "outputs": [
        {
          "output_type": "execute_result",
          "data": {
            "text/plain": [
              "<matplotlib.colorbar.Colorbar at 0x7fa58be387b8>"
            ]
          },
          "metadata": {
            "tags": []
          },
          "execution_count": 19
        },
        {
          "output_type": "display_data",
          "data": {
            "image/png": "[encoded data removed]",
            "text/plain": [
              "<Figure size 432x288 with 2 Axes>"
            ]
          },
          "metadata": {
            "tags": [],
            "needs_background": "light"
          }
        }
      ]
    },
    {
      "cell_type": "markdown",
      "metadata": {
        "id": "WO0JIoC_BjDn",
        "colab_type": "text"
      },
      "source": [
        "**Normalizando as imagens**\n",
        "\n",
        "\n"
      ]
    },
    {
      "cell_type": "code",
      "metadata": {
        "id": "mvfpO6kCuCLV",
        "colab_type": "code",
        "colab": {}
      },
      "source": [
        "imagens_treino = imagens_treino/float(255)"
      ],
      "execution_count": 20,
      "outputs": []
    },
    {
      "cell_type": "markdown",
      "metadata": {
        "id": "661fbkeDmX_h",
        "colab_type": "text"
      },
      "source": [
        "**Criando, compilando, treinando e normalizando o modelo**"
      ]
    },
    {
      "cell_type": "code",
      "metadata": {
        "id": "HcZbEZP2mGIL",
        "colab_type": "code",
        "colab": {}
      },
      "source": [
        "#camada 0 - entrada\n",
        "#camada 1 - processamento\n",
        "#camada 2 - saida\n",
        "\n",
        "#Criando o modelo\n",
        "modelo = keras.Sequential([\n",
        "  keras.layers.Flatten(input_shape = (28, 28)),\n",
        "  keras.layers.Dense(256, activation=tensorflow.nn.relu),\n",
        "  keras.layers.Dropout(0.2),\n",
        "  keras.layers.Dense(10, activation=tensorflow.nn.softmax)\n",
        "]) \n",
        "\n",
        "#Compilando o modelo\n",
        "modelo.compile(optimizer='adam', \n",
        "               loss='sparse_categorical_crossentropy',\n",
        "               metrics=['accuracy'])\n",
        "\n",
        "#Treinando o modelo\n",
        "historico = modelo.fit(imagens_treino, identificacaoes_treino, epochs=10, validation_split=0.2)"
      ],
      "execution_count": null,
      "outputs": []
    },
    {
      "cell_type": "markdown",
      "metadata": {
        "id": "TYUF2ob4m8x1",
        "colab_type": "text"
      },
      "source": [
        "**Salvando e carregando o modelo treinado**"
      ]
    },
    {
      "cell_type": "code",
      "metadata": {
        "id": "BpS3IQegkxgO",
        "colab_type": "code",
        "colab": {}
      },
      "source": [
        "modelo.save('modelo.h5')\n",
        "modelo_salvo = load_model('modelo.h5')"
      ],
      "execution_count": 21,
      "outputs": []
    },
    {
      "cell_type": "markdown",
      "metadata": {
        "id": "Xh-rc56YpQCl",
        "colab_type": "text"
      },
      "source": [
        "**Visualizando as acurácias de treino e validação por época**"
      ]
    },
    {
      "cell_type": "code",
      "metadata": {
        "id": "EdP418fboxdV",
        "colab_type": "code",
        "colab": {
          "base_uri": "https://localhost:8080/",
          "height": 314
        },
        "outputId": "80d41f66-c34b-47f8-fbb3-e4d68fdd7d2a"
      },
      "source": [
        "#Histórico em gráfico da Acurácia\n",
        "plt.plot(historico.history['accuracy'])\n",
        "plt.plot(historico.history['val_accuracy'])\n",
        "plt.title('Acurácia por épocas')\n",
        "plt.xlabel('épocas')\n",
        "plt.ylabel('acurácia')\n",
        "plt.legend(['treino', 'validação'])"
      ],
      "execution_count": 22,
      "outputs": [
        {
          "output_type": "execute_result",
          "data": {
            "text/plain": [
              "<matplotlib.legend.Legend at 0x7fa58b536e10>"
            ]
          },
          "metadata": {
            "tags": []
          },
          "execution_count": 22
        },
        {
          "output_type": "display_data",
          "data": {
            "image/png": "[encoded data removed]",
            "text/plain": [
              "<Figure size 432x288 with 1 Axes>"
            ]
          },
          "metadata": {
            "tags": [],
            "needs_background": "light"
          }
        }
      ]
    },
    {
      "cell_type": "markdown",
      "metadata": {
        "id": "ZJh24_kXphwJ",
        "colab_type": "text"
      },
      "source": [
        "**Visualizando as perdas de treino e validação por época**"
      ]
    },
    {
      "cell_type": "code",
      "metadata": {
        "id": "HPUoWFlpq9mC",
        "colab_type": "code",
        "colab": {
          "base_uri": "https://localhost:8080/",
          "height": 314
        },
        "outputId": "0155830f-dd5c-4cc9-ce27-bcf7af502e9a"
      },
      "source": [
        "#Histórico em gráfico da rede\n",
        "plt.plot(historico.history['loss'])\n",
        "plt.plot(historico.history['val_loss'])\n",
        "plt.title('Perda por épocas')\n",
        "plt.xlabel('épocas')\n",
        "plt.ylabel('perda')\n",
        "plt.legend(['treino', 'validação'])"
      ],
      "execution_count": 23,
      "outputs": [
        {
          "output_type": "execute_result",
          "data": {
            "text/plain": [
              "<matplotlib.legend.Legend at 0x7fa58b4a3860>"
            ]
          },
          "metadata": {
            "tags": []
          },
          "execution_count": 23
        },
        {
          "output_type": "display_data",
          "data": {
            "image/png": "[encoded data removed]",
            "text/plain": [
              "<Figure size 432x288 with 1 Axes>"
            ]
          },
          "metadata": {
            "tags": [],
            "needs_background": "light"
          }
        }
      ]
    },
    {
      "cell_type": "markdown",
      "metadata": {
        "id": "MKShcVeOpott",
        "colab_type": "text"
      },
      "source": [
        "**Testando o modelo e o modelo salvo**"
      ]
    },
    {
      "cell_type": "code",
      "metadata": {
        "id": "3s4QQ1fR7yZr",
        "colab_type": "code",
        "colab": {
          "base_uri": "https://localhost:8080/",
          "height": 89
        },
        "outputId": "586c3b99-aadb-4a6e-e18c-4c9fbf903ae4"
      },
      "source": [
        "#Testando o modelo\n",
        "testes = modelo.predict(imagens_teste)\n",
        "print('Resultado teste:', np.argmax(testes[1]))\n",
        "print('Número da imagem de teste:', identificacaoes_teste[1])\n",
        "\n",
        "#Testando o modelo salvo\n",
        "testes_modelo_salvo = modelo_salvo.predict(imagens_teste)\n",
        "print('Resultado teste modelo salvo:', np.argmax(testes_modelo_salvo[1]))\n",
        "print('Número da imagem de teste:', identificacaoes_teste[1])"
      ],
      "execution_count": 24,
      "outputs": [
        {
          "output_type": "stream",
          "text": [
            "Resultado teste: 2\n",
            "Número da imagem de teste: 2\n",
            "Resultado teste modelo salvo: 2\n",
            "Número da imagem de teste: 2\n"
          ],
          "name": "stdout"
        }
      ]
    },
    {
      "cell_type": "markdown",
      "metadata": {
        "id": "ysiC5hmxpzHr",
        "colab_type": "text"
      },
      "source": [
        "**Avaliando o modelo**"
      ]
    },
    {
      "cell_type": "code",
      "metadata": {
        "id": "IJcOO5X-mREX",
        "colab_type": "code",
        "colab": {
          "base_uri": "https://localhost:8080/",
          "height": 71
        },
        "outputId": "0f712e18-2056-4c68-fd54-4d2d7b9884fc"
      },
      "source": [
        "perda_teste, acuracia_teste = modelo.evaluate(imagens_teste, identificacaoes_teste)\n",
        "print('Perda do teste:', perda_teste)\n",
        "print('Acurácia do teste:', acuracia_teste)"
      ],
      "execution_count": 25,
      "outputs": [
        {
          "output_type": "stream",
          "text": [
            "313/313 [==============================] - 0s 2ms/step - loss: 50.4409 - accuracy: 0.8700\n",
            "Perda do teste: 50.44087600708008\n",
            "Acurácia do teste: 0.8700000047683716\n"
          ],
          "name": "stdout"
        }
      ]
    },
    {
      "cell_type": "code",
      "metadata": {
        "id": "_hqJNWdDnRjk",
        "colab_type": "code",
        "colab": {}
      },
      "source": [
        ""
      ],
      "execution_count": null,
      "outputs": []
    }
  ]
}