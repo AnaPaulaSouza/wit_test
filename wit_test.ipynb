{
  "nbformat": 4,
  "nbformat_minor": 0,
  "metadata": {
    "colab": {
      "name": "wit_test.ipynb",
      "provenance": [],
      "collapsed_sections": [],
      "authorship_tag": "ABX9TyPzJ6FJtyE2qX9J9qduS4jl",
      "include_colab_link": true
    },
    "kernelspec": {
      "name": "python3",
      "display_name": "Python 3"
    }
  },
  "cells": [
    {
      "cell_type": "markdown",
      "metadata": {
        "id": "view-in-github",
        "colab_type": "text"
      },
      "source": [
        "<a href=\"https://colab.research.google.com/github/AnaPaulaSouza/wit_test/blob/master/wit_test.ipynb\" target=\"_parent\"><img src=\"https://colab.research.google.com/assets/colab-badge.svg\" alt=\"Open In Colab\"/></a>"
      ]
    },
    {
      "cell_type": "code",
      "metadata": {
        "id": "_hgYZk2OzmTB",
        "colab_type": "code",
        "colab": {}
      },
      "source": [
        "import tensorflow\n",
        "from tensorflow import keras\n",
        "import matplotlib.pyplot as plt\n",
        "import numpy as np\n"
      ],
      "execution_count": 8,
      "outputs": []
    },
    {
      "cell_type": "markdown",
      "metadata": {
        "id": "oUfcqgYi01b3",
        "colab_type": "text"
      },
      "source": [
        "Carregando os dados"
      ]
    },
    {
      "cell_type": "code",
      "metadata": {
        "id": "q08JBWqvzpcg",
        "colab_type": "code",
        "colab": {
          "base_uri": "https://localhost:8080/",
          "height": 181
        },
        "outputId": "14c5d43c-1d11-4874-f38d-bfa3b374dc98"
      },
      "source": [
        "dataset = keras.datasets.fashion_mnist\n",
        "((imagens_treino, identificacaoes_treino), (imagens_teste, identificacaoes_teste)) = dataset.load_data()\n"
      ],
      "execution_count": 2,
      "outputs": [
        {
          "output_type": "stream",
          "text": [
            "Downloading data from https://storage.googleapis.com/tensorflow/tf-keras-datasets/train-labels-idx1-ubyte.gz\n",
            "32768/29515 [=================================] - 0s 0us/step\n",
            "Downloading data from https://storage.googleapis.com/tensorflow/tf-keras-datasets/train-images-idx3-ubyte.gz\n",
            "26427392/26421880 [==============================] - 0s 0us/step\n",
            "Downloading data from https://storage.googleapis.com/tensorflow/tf-keras-datasets/t10k-labels-idx1-ubyte.gz\n",
            "8192/5148 [===============================================] - 0s 0us/step\n",
            "Downloading data from https://storage.googleapis.com/tensorflow/tf-keras-datasets/t10k-images-idx3-ubyte.gz\n",
            "4423680/4422102 [==============================] - 0s 0us/step\n"
          ],
          "name": "stdout"
        }
      ]
    },
    {
      "cell_type": "markdown",
      "metadata": {
        "id": "UR_OmxTe0AyJ",
        "colab_type": "text"
      },
      "source": [
        "Exploração os dados\n"
      ]
    },
    {
      "cell_type": "code",
      "metadata": {
        "id": "9RfMNYfPzspy",
        "colab_type": "code",
        "colab": {
          "base_uri": "https://localhost:8080/",
          "height": 35
        },
        "outputId": "3722b5e9-61f4-4715-af7a-c8b949174a4c"
      },
      "source": [
        "len(imagens_teste)\n",
        "imagens_treino.shape\n",
        "imagens_teste.shape\n",
        "len(identificacaoes_teste)\n",
        "identificacaoes_treino.min()\n",
        "identificacaoes_treino.max()"
      ],
      "execution_count": null,
      "outputs": [
        {
          "output_type": "execute_result",
          "data": {
            "text/plain": [
              "9"
            ]
          },
          "metadata": {
            "tags": []
          },
          "execution_count": 53
        }
      ]
    },
    {
      "cell_type": "markdown",
      "metadata": {
        "id": "ZvKhgfnc0VLj",
        "colab_type": "text"
      },
      "source": [
        "Exibição dos dados"
      ]
    },
    {
      "cell_type": "code",
      "metadata": {
        "id": "pCtN8Xo4r0Jb",
        "colab_type": "code",
        "colab": {
          "base_uri": "https://localhost:8080/",
          "height": 283
        },
        "outputId": "2d256887-07b2-446c-977e-391aecfd9eb8"
      },
      "source": [
        "total_de_classificacoes = 10\n",
        "nomes_de_classificacoes = ['Camiseta', 'Calça', 'Pullover', \n",
        "                           'Vestido', 'Casado', 'Sandália', 'Camisa', \n",
        "                           'Tênis', 'Bolsa', 'Bota'\n",
        "                         ]\n",
        "# plt.imshow(imagens_treino[0])\n",
        "# plt.title(identificacaoes_treino[0])\n",
        "\n",
        "# for imagem in range(10):\n",
        "#   plt.subplot(2, 5, imagem+1)\n",
        "#   plt.imshow(imagens_treino[imagem])\n",
        "#   plt.title(nomes_de_classificacoes[identificacaoes_treino[imagem]])\n",
        "\n",
        "plt.imshow(imagens_treino[0])\n",
        "plt.colorbar()"
      ],
      "execution_count": null,
      "outputs": [
        {
          "output_type": "execute_result",
          "data": {
            "text/plain": [
              "<matplotlib.colorbar.Colorbar at 0x7f3caf833cf8>"
            ]
          },
          "metadata": {
            "tags": []
          },
          "execution_count": 54
        },
        {
          "output_type": "display_data",
          "data": {
            "image/png": "[encoded data removed]",
            "text/plain": [
              "<Figure size 432x288 with 2 Axes>"
            ]
          },
          "metadata": {
            "tags": [],
            "needs_background": "light"
          }
        }
      ]
    },
    {
      "cell_type": "markdown",
      "metadata": {
        "id": "WO0JIoC_BjDn",
        "colab_type": "text"
      },
      "source": [
        "Ensinando o modelo"
      ]
    },
    {
      "cell_type": "code",
      "metadata": {
        "id": "mvfpO6kCuCLV",
        "colab_type": "code",
        "colab": {
          "base_uri": "https://localhost:8080/",
          "height": 397
        },
        "outputId": "e9ef1d90-44e8-474e-e34c-74a0cf79418e"
      },
      "source": [
        "#camada 0 - entrada\n",
        "#camada 1 - processamento\n",
        "#camada 2 - saida\n",
        "\n",
        "#normalização --- A4\n",
        "imagens_treino = imagens_treino/float(255)\n",
        "\n",
        "modelo = keras.Sequential([\n",
        "  keras.layers.Flatten(input_shape = (28, 28)),\n",
        "  keras.layers.Dense(256, activation=tensorflow.nn.relu),\n",
        "  keras.layers.Dense(10, activation=tensorflow.nn.softmax)\n",
        "])\n",
        "\n",
        "#Compilando o modelo\n",
        "modelo.compile(optimizer='adam', \n",
        "               loss='sparse_categorical_crossentropy',\n",
        "               metrics=['accuracy'])\n",
        "\n",
        "#Treinando o modelo\n",
        "historico = modelo.fit(imagens_treino, identificacaoes_treino, epochs=10, validation_split=0.2)"
      ],
      "execution_count": 27,
      "outputs": [
        {
          "output_type": "stream",
          "text": [
            "Epoch 1/10\n",
            "1500/1500 [==============================] - 4s 3ms/step - loss: 2.3028 - accuracy: 0.0997 - val_loss: 2.3029 - val_accuracy: 0.0957\n",
            "Epoch 2/10\n",
            "1500/1500 [==============================] - 4s 2ms/step - loss: 2.3027 - accuracy: 0.0983 - val_loss: 2.3027 - val_accuracy: 0.0957\n",
            "Epoch 3/10\n",
            "1500/1500 [==============================] - 4s 3ms/step - loss: 2.3028 - accuracy: 0.0976 - val_loss: 2.3027 - val_accuracy: 0.0983\n",
            "Epoch 4/10\n",
            "1500/1500 [==============================] - 4s 2ms/step - loss: 2.3027 - accuracy: 0.0983 - val_loss: 2.3029 - val_accuracy: 0.0983\n",
            "Epoch 5/10\n",
            "1500/1500 [==============================] - 4s 3ms/step - loss: 2.3028 - accuracy: 0.0997 - val_loss: 2.3029 - val_accuracy: 0.0957\n",
            "Epoch 6/10\n",
            "1500/1500 [==============================] - 4s 3ms/step - loss: 2.3028 - accuracy: 0.0978 - val_loss: 2.3027 - val_accuracy: 0.0983\n",
            "Epoch 7/10\n",
            "1500/1500 [==============================] - 4s 3ms/step - loss: 2.3028 - accuracy: 0.0996 - val_loss: 2.3028 - val_accuracy: 0.1003\n",
            "Epoch 8/10\n",
            "1500/1500 [==============================] - 4s 3ms/step - loss: 2.3028 - accuracy: 0.0974 - val_loss: 2.3028 - val_accuracy: 0.0983\n",
            "Epoch 9/10\n",
            "1500/1500 [==============================] - 4s 3ms/step - loss: 2.3028 - accuracy: 0.0985 - val_loss: 2.3028 - val_accuracy: 0.0983\n",
            "Epoch 10/10\n",
            "1500/1500 [==============================] - 4s 3ms/step - loss: 2.3028 - accuracy: 0.0988 - val_loss: 2.3027 - val_accuracy: 0.0983\n"
          ],
          "name": "stdout"
        }
      ]
    },
    {
      "cell_type": "code",
      "metadata": {
        "id": "EdP418fboxdV",
        "colab_type": "code",
        "colab": {
          "base_uri": "https://localhost:8080/",
          "height": 314
        },
        "outputId": "8d3e7a01-0112-410f-94cb-eb2964cef9bd"
      },
      "source": [
        "#Histórico em gráfico da Acurácia\n",
        "plt.plot(historico.history['accuracy'])\n",
        "plt.plot(historico.history['val_accuracy'])\n",
        "plt.title('Acurácia por épocas')\n",
        "plt.xlabel('épocas')\n",
        "plt.ylabel('acurácia')\n",
        "plt.legend(['treino', 'validação'])"
      ],
      "execution_count": 28,
      "outputs": [
        {
          "output_type": "execute_result",
          "data": {
            "text/plain": [
              "<matplotlib.legend.Legend at 0x7ff656d46be0>"
            ]
          },
          "metadata": {
            "tags": []
          },
          "execution_count": 28
        },
        {
          "output_type": "display_data",
          "data": {
            "image/png": "[encoded data removed]",
            "text/plain": [
              "<Figure size 432x288 with 1 Axes>"
            ]
          },
          "metadata": {
            "tags": [],
            "needs_background": "light"
          }
        }
      ]
    },
    {
      "cell_type": "code",
      "metadata": {
        "id": "HPUoWFlpq9mC",
        "colab_type": "code",
        "colab": {
          "base_uri": "https://localhost:8080/",
          "height": 314
        },
        "outputId": "a26b0e78-5ee6-488e-9146-9df95af95288"
      },
      "source": [
        "#Histórico em gráfico da rede\n",
        "plt.plot(historico.history['loss'])\n",
        "plt.plot(historico.history['val_loss'])\n",
        "plt.title('Perda por épocas')\n",
        "plt.xlabel('épocas')\n",
        "plt.ylabel('perda')\n",
        "plt.legend(['treino', 'validação'])"
      ],
      "execution_count": 29,
      "outputs": [
        {
          "output_type": "execute_result",
          "data": {
            "text/plain": [
              "<matplotlib.legend.Legend at 0x7ff65997aa20>"
            ]
          },
          "metadata": {
            "tags": []
          },
          "execution_count": 29
        },
        {
          "output_type": "display_data",
          "data": {
            "image/png": "[encoded data removed]",
            "text/plain": [
              "<Figure size 432x288 with 1 Axes>"
            ]
          },
          "metadata": {
            "tags": [],
            "needs_background": "light"
          }
        }
      ]
    },
    {
      "cell_type": "code",
      "metadata": {
        "id": "3s4QQ1fR7yZr",
        "colab_type": "code",
        "colab": {
          "base_uri": "https://localhost:8080/",
          "height": 53
        },
        "outputId": "34a47bd7-bdec-479c-a2df-ddd84121f1a7"
      },
      "source": [
        "#Testando o modelo\n",
        "testes = modelo.predict(imagens_teste)\n",
        "print('Resultado teste:', np.argmax(testes[0]))\n",
        "print('Número da imagem de teste:', identificacaoes_teste[1])"
      ],
      "execution_count": 11,
      "outputs": [
        {
          "output_type": "stream",
          "text": [
            "Resultado teste: 9\n",
            "Número da imagem de teste: 2\n"
          ],
          "name": "stdout"
        }
      ]
    },
    {
      "cell_type": "code",
      "metadata": {
        "id": "IJcOO5X-mREX",
        "colab_type": "code",
        "colab": {
          "base_uri": "https://localhost:8080/",
          "height": 71
        },
        "outputId": "641179af-2e8c-4840-976c-646d3f5ae99f"
      },
      "source": [
        "perda_teste, acuracia_teste = modelo.evaluate(imagens_teste, identificacaoes_teste)\n",
        "print('Perda do teste:', perda_teste)\n",
        "print('Acurácia do teste:', acuracia_teste)"
      ],
      "execution_count": 15,
      "outputs": [
        {
          "output_type": "stream",
          "text": [
            "313/313 [==============================] - 0s 1ms/step - loss: 255907.2188 - accuracy: 0.2364\n",
            "Perda do teste: 255907.21875\n",
            "Acurácia do teste: 0.23639999330043793\n"
          ],
          "name": "stdout"
        }
      ]
    },
    {
      "cell_type": "code",
      "metadata": {
        "id": "_hqJNWdDnRjk",
        "colab_type": "code",
        "colab": {}
      },
      "source": [
        ""
      ],
      "execution_count": null,
      "outputs": []
    }
  ]
}